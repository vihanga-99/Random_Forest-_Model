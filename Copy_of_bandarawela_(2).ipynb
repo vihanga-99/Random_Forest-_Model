{
  "nbformat": 4,
  "nbformat_minor": 0,
  "metadata": {
    "colab": {
      "name": "Copy of bandarawela  (2).ipynb",
      "provenance": [],
      "collapsed_sections": []
    },
    "kernelspec": {
      "display_name": "Python 3",
      "language": "python",
      "name": "python3"
    },
    "language_info": {
      "codemirror_mode": {
        "name": "ipython",
        "version": 3
      },
      "file_extension": ".py",
      "mimetype": "text/x-python",
      "name": "python",
      "nbconvert_exporter": "python",
      "pygments_lexer": "ipython3",
      "version": "3.8.5"
    }
  },
  "cells": [
    {
      "cell_type": "code",
      "metadata": {
        "id": "ypXbgD9xlWSi"
      },
      "source": [
        "import pandas as pd\n",
        "import numpy as np\n",
        "from matplotlib import pyplot as plt\n",
        "%matplotlib inline\n",
        "import matplotlib\n",
        "matplotlib.rcParams[\"figure.figsize\"] = (20,10)"
      ],
      "execution_count": null,
      "outputs": []
    },
    {
      "cell_type": "code",
      "metadata": {
        "colab": {
          "resources": {
            "http://localhost:8080/nbextensions/google.colab/files.js": {
              "data": "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",
              "ok": true,
              "headers": [
                [
                  "content-type",
                  "application/javascript"
                ]
              ],
              "status": 200,
              "status_text": ""
            }
          },
          "base_uri": "https://localhost:8080/",
          "height": 73
        },
        "id": "2vgqdwP1Osas",
        "outputId": "4475d943-d24f-4cdc-c098-11eb3bcbfe95"
      },
      "source": [
        "from google.colab import files\n",
        "uploaded = files.upload()"
      ],
      "execution_count": null,
      "outputs": [
        {
          "output_type": "display_data",
          "data": {
            "text/html": [
              "\n",
              "     <input type=\"file\" id=\"files-82de006c-aec3-48f5-8879-8dd0cd272bf7\" name=\"files[]\" multiple disabled\n",
              "        style=\"border:none\" />\n",
              "     <output id=\"result-82de006c-aec3-48f5-8879-8dd0cd272bf7\">\n",
              "      Upload widget is only available when the cell has been executed in the\n",
              "      current browser session. Please rerun this cell to enable.\n",
              "      </output>\n",
              "      <script src=\"/nbextensions/google.colab/files.js\"></script> "
            ],
            "text/plain": [
              "<IPython.core.display.HTML object>"
            ]
          },
          "metadata": {
            "tags": []
          }
        },
        {
          "output_type": "stream",
          "text": [
            "Saving bandarawela.xlsx to bandarawela.xlsx\n"
          ],
          "name": "stdout"
        }
      ]
    },
    {
      "cell_type": "code",
      "metadata": {
        "colab": {
          "base_uri": "https://localhost:8080/",
          "height": 402
        },
        "id": "bWRNwclNOwyS",
        "outputId": "7d2fb40c-3d14-4652-b90e-6d448b197018"
      },
      "source": [
        "import io\n",
        "df = pd.read_excel(io.BytesIO(uploaded['bandarawela.xlsx']))\n",
        "df"
      ],
      "execution_count": null,
      "outputs": [
        {
          "output_type": "execute_result",
          "data": {
            "text/html": [
              "<div>\n",
              "<style scoped>\n",
              "    .dataframe tbody tr th:only-of-type {\n",
              "        vertical-align: middle;\n",
              "    }\n",
              "\n",
              "    .dataframe tbody tr th {\n",
              "        vertical-align: top;\n",
              "    }\n",
              "\n",
              "    .dataframe thead th {\n",
              "        text-align: right;\n",
              "    }\n",
              "</style>\n",
              "<table border=\"1\" class=\"dataframe\">\n",
              "  <thead>\n",
              "    <tr style=\"text-align: right;\">\n",
              "      <th></th>\n",
              "      <th>Date</th>\n",
              "      <th>Vegetable</th>\n",
              "      <th>Units</th>\n",
              "      <th>NetAmount (kg)</th>\n",
              "      <th>Time</th>\n",
              "      <th>PricePerkilogram</th>\n",
              "      <th>NetPrice (Rs)</th>\n",
              "      <th>Quality</th>\n",
              "    </tr>\n",
              "  </thead>\n",
              "  <tbody>\n",
              "    <tr>\n",
              "      <th>0</th>\n",
              "      <td>7/31/2020</td>\n",
              "      <td>GreenChilli</td>\n",
              "      <td>4</td>\n",
              "      <td>118.0</td>\n",
              "      <td>7.50am</td>\n",
              "      <td>128.0</td>\n",
              "      <td>15104</td>\n",
              "      <td>H</td>\n",
              "    </tr>\n",
              "    <tr>\n",
              "      <th>1</th>\n",
              "      <td>7/31/2020</td>\n",
              "      <td>Beans</td>\n",
              "      <td>12</td>\n",
              "      <td>286.0</td>\n",
              "      <td>8.35am</td>\n",
              "      <td>182.0</td>\n",
              "      <td>52052</td>\n",
              "      <td>H</td>\n",
              "    </tr>\n",
              "    <tr>\n",
              "      <th>2</th>\n",
              "      <td>2020-07-31 00:00:00</td>\n",
              "      <td>Potatoe</td>\n",
              "      <td>5</td>\n",
              "      <td>266.0</td>\n",
              "      <td>9.45am</td>\n",
              "      <td>115.0</td>\n",
              "      <td>30590</td>\n",
              "      <td>M</td>\n",
              "    </tr>\n",
              "    <tr>\n",
              "      <th>3</th>\n",
              "      <td>2020-07-31 00:00:00</td>\n",
              "      <td>Cabbage</td>\n",
              "      <td>4</td>\n",
              "      <td>154.0</td>\n",
              "      <td>10.10am</td>\n",
              "      <td>77.0</td>\n",
              "      <td>11858</td>\n",
              "      <td>H</td>\n",
              "    </tr>\n",
              "    <tr>\n",
              "      <th>4</th>\n",
              "      <td>2020-07-31 00:00:00</td>\n",
              "      <td>Potatoe</td>\n",
              "      <td>3</td>\n",
              "      <td>142.0</td>\n",
              "      <td>10.30am</td>\n",
              "      <td>75.0</td>\n",
              "      <td>10650</td>\n",
              "      <td>L</td>\n",
              "    </tr>\n",
              "    <tr>\n",
              "      <th>...</th>\n",
              "      <td>...</td>\n",
              "      <td>...</td>\n",
              "      <td>...</td>\n",
              "      <td>...</td>\n",
              "      <td>...</td>\n",
              "      <td>...</td>\n",
              "      <td>...</td>\n",
              "      <td>...</td>\n",
              "    </tr>\n",
              "    <tr>\n",
              "      <th>347</th>\n",
              "      <td>2020-02-20 00:00:00</td>\n",
              "      <td>Beans</td>\n",
              "      <td>2</td>\n",
              "      <td>45.0</td>\n",
              "      <td>10.40am</td>\n",
              "      <td>165.0</td>\n",
              "      <td>7420</td>\n",
              "      <td>H</td>\n",
              "    </tr>\n",
              "    <tr>\n",
              "      <th>348</th>\n",
              "      <td>2020-02-21 00:00:00</td>\n",
              "      <td>Potatoe</td>\n",
              "      <td>9</td>\n",
              "      <td>455.0</td>\n",
              "      <td>10.50am</td>\n",
              "      <td>100.0</td>\n",
              "      <td>48500</td>\n",
              "      <td>H</td>\n",
              "    </tr>\n",
              "    <tr>\n",
              "      <th>349</th>\n",
              "      <td>2020-02-22 00:00:00</td>\n",
              "      <td>Beans</td>\n",
              "      <td>15</td>\n",
              "      <td>891.0</td>\n",
              "      <td>11.30am</td>\n",
              "      <td>100.0</td>\n",
              "      <td>89100</td>\n",
              "      <td>H</td>\n",
              "    </tr>\n",
              "    <tr>\n",
              "      <th>350</th>\n",
              "      <td>2020-02-23 00:00:00</td>\n",
              "      <td>Beans</td>\n",
              "      <td>3</td>\n",
              "      <td>145.0</td>\n",
              "      <td>12.35pm</td>\n",
              "      <td>145.0</td>\n",
              "      <td>21020</td>\n",
              "      <td>M</td>\n",
              "    </tr>\n",
              "    <tr>\n",
              "      <th>351</th>\n",
              "      <td>2020-02-24 00:00:00</td>\n",
              "      <td>Beans</td>\n",
              "      <td>1</td>\n",
              "      <td>51.0</td>\n",
              "      <td>12.45pm</td>\n",
              "      <td>110.0</td>\n",
              "      <td>5610</td>\n",
              "      <td>L</td>\n",
              "    </tr>\n",
              "  </tbody>\n",
              "</table>\n",
              "<p>352 rows × 8 columns</p>\n",
              "</div>"
            ],
            "text/plain": [
              "                    Date    Vegetable  ...  NetPrice (Rs)  Quality\n",
              "0              7/31/2020  GreenChilli  ...          15104        H\n",
              "1              7/31/2020        Beans  ...          52052        H\n",
              "2    2020-07-31 00:00:00      Potatoe  ...          30590        M\n",
              "3    2020-07-31 00:00:00      Cabbage  ...          11858        H\n",
              "4    2020-07-31 00:00:00      Potatoe  ...          10650        L\n",
              "..                   ...          ...  ...            ...      ...\n",
              "347  2020-02-20 00:00:00        Beans  ...           7420        H\n",
              "348  2020-02-21 00:00:00      Potatoe  ...          48500        H\n",
              "349  2020-02-22 00:00:00        Beans  ...          89100        H\n",
              "350  2020-02-23 00:00:00        Beans  ...          21020        M\n",
              "351  2020-02-24 00:00:00        Beans  ...           5610        L\n",
              "\n",
              "[352 rows x 8 columns]"
            ]
          },
          "metadata": {
            "tags": []
          },
          "execution_count": 3
        }
      ]
    },
    {
      "cell_type": "code",
      "metadata": {
        "colab": {
          "base_uri": "https://localhost:8080/"
        },
        "id": "8l--hkpylWSu",
        "scrolled": true,
        "outputId": "c970fb65-434c-43b5-f288-e1ad6060d782"
      },
      "source": [
        "df['Vegetable'].value_counts()"
      ],
      "execution_count": null,
      "outputs": [
        {
          "output_type": "execute_result",
          "data": {
            "text/plain": [
              "Beans          136\n",
              "Eggplant        52\n",
              "Tomato          31\n",
              "Cabbage         29\n",
              "Potatoe         24\n",
              "Carrot          23\n",
              "Radish          22\n",
              "GreenChilli     12\n",
              "Pumpkin          6\n",
              "Guava            6\n",
              "Karawila         4\n",
              "Arecanut         2\n",
              "Banana           2\n",
              "Lettuce          2\n",
              "Name: Vegetable, dtype: int64"
            ]
          },
          "metadata": {
            "tags": []
          },
          "execution_count": 4
        }
      ]
    },
    {
      "cell_type": "code",
      "metadata": {
        "colab": {
          "base_uri": "https://localhost:8080/"
        },
        "id": "WcLTJtWvlWSv",
        "outputId": "ec77489b-22f5-4e8a-86fc-dbb2a19aca66"
      },
      "source": [
        "df = df.drop(['Date','Quality','NetPrice (Rs)','Units'],axis='columns')\n",
        "df.shape"
      ],
      "execution_count": null,
      "outputs": [
        {
          "output_type": "execute_result",
          "data": {
            "text/plain": [
              "(352, 4)"
            ]
          },
          "metadata": {
            "tags": []
          },
          "execution_count": 5
        }
      ]
    },
    {
      "cell_type": "code",
      "metadata": {
        "colab": {
          "base_uri": "https://localhost:8080/"
        },
        "id": "jRZCVxZ4lWSv",
        "outputId": "3b18330d-0cfc-4e11-9fc5-953a6e1ca809"
      },
      "source": [
        "df.isnull().sum()"
      ],
      "execution_count": null,
      "outputs": [
        {
          "output_type": "execute_result",
          "data": {
            "text/plain": [
              "Vegetable           1\n",
              "NetAmount (kg)      2\n",
              "Time                0\n",
              "PricePerkilogram    2\n",
              "dtype: int64"
            ]
          },
          "metadata": {
            "tags": []
          },
          "execution_count": 6
        }
      ]
    },
    {
      "cell_type": "code",
      "metadata": {
        "colab": {
          "base_uri": "https://localhost:8080/"
        },
        "id": "p9jKRyvqlWSw",
        "outputId": "5ca4a512-00eb-49b8-b6c8-86f453c2a269"
      },
      "source": [
        "df = df.dropna()\n",
        "df.isnull().sum()"
      ],
      "execution_count": null,
      "outputs": [
        {
          "output_type": "execute_result",
          "data": {
            "text/plain": [
              "Vegetable           0\n",
              "NetAmount (kg)      0\n",
              "Time                0\n",
              "PricePerkilogram    0\n",
              "dtype: int64"
            ]
          },
          "metadata": {
            "tags": []
          },
          "execution_count": 7
        }
      ]
    },
    {
      "cell_type": "code",
      "metadata": {
        "colab": {
          "base_uri": "https://localhost:8080/"
        },
        "id": "p_zq89AOlWSw",
        "scrolled": false,
        "outputId": "3725c849-1840-4a95-8645-0231b8df2cb7"
      },
      "source": [
        "df.Time.unique()"
      ],
      "execution_count": null,
      "outputs": [
        {
          "output_type": "execute_result",
          "data": {
            "text/plain": [
              "array(['7.50am ', '8.35am ', '9.45am ', '10.10am ', '10.30am', '10.45am ',\n",
              "       '11.35am', '12.25pm ', '12.55pm', '9.00am', '9.25am', '9.55am',\n",
              "       '10.50am', '11.05am ', '11.30am ', '11.45am', '8.30am ', '8.45am ',\n",
              "       '8.55am', '9.45am', '10.00am', '10.25am ', '10.40am', '11.55am ',\n",
              "       '8.15am ', '8.30am', '10.05am', '10.30am ', '10.55am ', '11.10am ',\n",
              "       '11.35am ', '1.00pm ', '9.10am', '9.30am', '10.25am', '11.20am',\n",
              "       '11.40am ', '12.05pm', '8.05am ', '8.10am ', '9.05am ', '9.35am',\n",
              "       '10.15am', '8.05am', '8.25am ', '9.15am', '9.30am ', '9.55am ',\n",
              "       '10.35am', '11.25am ', '12.02pm ', '9.15am ', '10.05am ',\n",
              "       '10.15am ', '8.25am', '9.50am ', '11.05am', '11.15am ', '11.30am',\n",
              "       '12.05pm ', '12.35pm ', '8.00am', '8.20am ', '9.25am ', '9.35am ',\n",
              "       '11.10am', '10.10am', '10.23am ', '10.34am', '10.45am', '10.50am ',\n",
              "       '7.55am ', '8.15am', '9.05am', '9.40am ', '10.00am ', '9.00am ',\n",
              "       '12.50pm', '1.10pm ', '8.00am ', '8.40am', '8.55am ', '10.55am',\n",
              "       '11.50am', '12.10pm', '12.15pm', '12.35pm', '12.40pm ', '12.45pm ',\n",
              "       '1.15pm', '1.25pm ', '7.55am', '8.20am', '10.40am ', '12.30pm',\n",
              "       '1.15pm ', '1.50pm ', '2.40pm ', '7.50am', '8.35am', '12.25pm',\n",
              "       '12.55pm ', '11.45am ', '11.55am', '1.00pm', '11.20am ', '11.40am',\n",
              "       '10.35am ', '11.25am', '10.34am ', '8.45am', '12.50pm ', '10.23am',\n",
              "       '11.50am ', '12.10pm ', '12.15pm ', '1.25pm', '12.45pm'],\n",
              "      dtype=object)"
            ]
          },
          "metadata": {
            "tags": []
          },
          "execution_count": 8
        }
      ]
    },
    {
      "cell_type": "code",
      "metadata": {
        "id": "FJg-kcWTlWSw"
      },
      "source": [
        "#creating new coloumns for morning and evening prices \n",
        "df['morning_price'] = df['Time'].apply(lambda x: 1 if 'am' in x.lower() else 0)\n",
        "df['evening_price'] = df['Time'].apply(lambda x: 1 if 'pm' in x.lower() else 0)"
      ],
      "execution_count": null,
      "outputs": []
    },
    {
      "cell_type": "code",
      "metadata": {
        "colab": {
          "base_uri": "https://localhost:8080/",
          "height": 195
        },
        "id": "D2ZXJ5F2lWSx",
        "outputId": "14ab142e-4636-4f24-ab24-3afd75bb37b4"
      },
      "source": [
        "df.head()"
      ],
      "execution_count": null,
      "outputs": [
        {
          "output_type": "execute_result",
          "data": {
            "text/html": [
              "<div>\n",
              "<style scoped>\n",
              "    .dataframe tbody tr th:only-of-type {\n",
              "        vertical-align: middle;\n",
              "    }\n",
              "\n",
              "    .dataframe tbody tr th {\n",
              "        vertical-align: top;\n",
              "    }\n",
              "\n",
              "    .dataframe thead th {\n",
              "        text-align: right;\n",
              "    }\n",
              "</style>\n",
              "<table border=\"1\" class=\"dataframe\">\n",
              "  <thead>\n",
              "    <tr style=\"text-align: right;\">\n",
              "      <th></th>\n",
              "      <th>Vegetable</th>\n",
              "      <th>NetAmount (kg)</th>\n",
              "      <th>Time</th>\n",
              "      <th>PricePerkilogram</th>\n",
              "      <th>morning_price</th>\n",
              "      <th>evening_price</th>\n",
              "    </tr>\n",
              "  </thead>\n",
              "  <tbody>\n",
              "    <tr>\n",
              "      <th>0</th>\n",
              "      <td>GreenChilli</td>\n",
              "      <td>118.0</td>\n",
              "      <td>7.50am</td>\n",
              "      <td>128.0</td>\n",
              "      <td>1</td>\n",
              "      <td>0</td>\n",
              "    </tr>\n",
              "    <tr>\n",
              "      <th>1</th>\n",
              "      <td>Beans</td>\n",
              "      <td>286.0</td>\n",
              "      <td>8.35am</td>\n",
              "      <td>182.0</td>\n",
              "      <td>1</td>\n",
              "      <td>0</td>\n",
              "    </tr>\n",
              "    <tr>\n",
              "      <th>2</th>\n",
              "      <td>Potatoe</td>\n",
              "      <td>266.0</td>\n",
              "      <td>9.45am</td>\n",
              "      <td>115.0</td>\n",
              "      <td>1</td>\n",
              "      <td>0</td>\n",
              "    </tr>\n",
              "    <tr>\n",
              "      <th>3</th>\n",
              "      <td>Cabbage</td>\n",
              "      <td>154.0</td>\n",
              "      <td>10.10am</td>\n",
              "      <td>77.0</td>\n",
              "      <td>1</td>\n",
              "      <td>0</td>\n",
              "    </tr>\n",
              "    <tr>\n",
              "      <th>4</th>\n",
              "      <td>Potatoe</td>\n",
              "      <td>142.0</td>\n",
              "      <td>10.30am</td>\n",
              "      <td>75.0</td>\n",
              "      <td>1</td>\n",
              "      <td>0</td>\n",
              "    </tr>\n",
              "  </tbody>\n",
              "</table>\n",
              "</div>"
            ],
            "text/plain": [
              "     Vegetable  NetAmount (kg)  ... morning_price  evening_price\n",
              "0  GreenChilli           118.0  ...             1              0\n",
              "1        Beans           286.0  ...             1              0\n",
              "2      Potatoe           266.0  ...             1              0\n",
              "3      Cabbage           154.0  ...             1              0\n",
              "4      Potatoe           142.0  ...             1              0\n",
              "\n",
              "[5 rows x 6 columns]"
            ]
          },
          "metadata": {
            "tags": []
          },
          "execution_count": 10
        }
      ]
    },
    {
      "cell_type": "code",
      "metadata": {
        "id": "Bvblqfo5lWSx"
      },
      "source": [
        "#creating coloumns for each vegetables\n",
        "#Beans \n",
        "df['Beans'] = df['Vegetable'].apply(lambda x: 1 if 'beans' in x.lower() else 0)\n",
        "#Potatoe\n",
        "df['Potatoe'] = df['Vegetable'].apply(lambda x: 1 if 'potatoe' in x.lower() else 0)\n",
        "#Eggplant \n",
        "df['Eggplant'] = df['Vegetable'].apply(lambda x: 1 if 'eggplant' in x.lower() else 0)\n",
        "#Tomato          \n",
        "df['Tomato'] = df['Vegetable'].apply(lambda x: 1 if 'tomato' in x.lower() else 0)\n",
        "#Carrot  \n",
        "df['Carrot'] = df['Vegetable'].apply(lambda x: 1 if 'carrot' in x.lower() else 0)\n",
        "#Cabbage\n",
        "df['Cabbage'] = df['Vegetable'].apply(lambda x: 1 if 'cabbage' in x.lower() else 0)\n",
        "#Radish\n",
        "df['Radish'] = df['Vegetable'].apply(lambda x: 1 if 'radish' in x.lower() else 0)\n",
        "#Green Chilli \n",
        "df['GreenChilli'] = df['Vegetable'].apply(lambda x: 1 if 'greenchilli' in x.lower() else 0)\n",
        "#Pumpkin \n",
        "df['Pumpkin'] = df['Vegetable'].apply(lambda x: 1 if 'pumpkin' in x.lower() else 0)\n",
        "#Guava   \n",
        "df['Guava'] = df['Vegetable'].apply(lambda x: 1 if 'guava' in x.lower() else 0)\n",
        "#karawila\n",
        "df['Karawila'] = df['Vegetable'].apply(lambda x: 1 if 'karawila' in x.lower() else 0)\n",
        "\n",
        "\n",
        "\n",
        "\n"
      ],
      "execution_count": null,
      "outputs": []
    },
    {
      "cell_type": "code",
      "metadata": {
        "colab": {
          "base_uri": "https://localhost:8080/",
          "height": 195
        },
        "id": "zIeMW_2blWSy",
        "scrolled": false,
        "outputId": "3917e28a-686a-42eb-b053-b655caa50651"
      },
      "source": [
        "df.head()"
      ],
      "execution_count": null,
      "outputs": [
        {
          "output_type": "execute_result",
          "data": {
            "text/html": [
              "<div>\n",
              "<style scoped>\n",
              "    .dataframe tbody tr th:only-of-type {\n",
              "        vertical-align: middle;\n",
              "    }\n",
              "\n",
              "    .dataframe tbody tr th {\n",
              "        vertical-align: top;\n",
              "    }\n",
              "\n",
              "    .dataframe thead th {\n",
              "        text-align: right;\n",
              "    }\n",
              "</style>\n",
              "<table border=\"1\" class=\"dataframe\">\n",
              "  <thead>\n",
              "    <tr style=\"text-align: right;\">\n",
              "      <th></th>\n",
              "      <th>Vegetable</th>\n",
              "      <th>NetAmount (kg)</th>\n",
              "      <th>Time</th>\n",
              "      <th>PricePerkilogram</th>\n",
              "      <th>morning_price</th>\n",
              "      <th>evening_price</th>\n",
              "      <th>Beans</th>\n",
              "      <th>Potatoe</th>\n",
              "      <th>Eggplant</th>\n",
              "      <th>Tomato</th>\n",
              "      <th>Carrot</th>\n",
              "      <th>Cabbage</th>\n",
              "      <th>Radish</th>\n",
              "      <th>GreenChilli</th>\n",
              "      <th>Pumpkin</th>\n",
              "      <th>Guava</th>\n",
              "      <th>Karawila</th>\n",
              "    </tr>\n",
              "  </thead>\n",
              "  <tbody>\n",
              "    <tr>\n",
              "      <th>0</th>\n",
              "      <td>GreenChilli</td>\n",
              "      <td>118.0</td>\n",
              "      <td>7.50am</td>\n",
              "      <td>128.0</td>\n",
              "      <td>1</td>\n",
              "      <td>0</td>\n",
              "      <td>0</td>\n",
              "      <td>0</td>\n",
              "      <td>0</td>\n",
              "      <td>0</td>\n",
              "      <td>0</td>\n",
              "      <td>0</td>\n",
              "      <td>0</td>\n",
              "      <td>1</td>\n",
              "      <td>0</td>\n",
              "      <td>0</td>\n",
              "      <td>0</td>\n",
              "    </tr>\n",
              "    <tr>\n",
              "      <th>1</th>\n",
              "      <td>Beans</td>\n",
              "      <td>286.0</td>\n",
              "      <td>8.35am</td>\n",
              "      <td>182.0</td>\n",
              "      <td>1</td>\n",
              "      <td>0</td>\n",
              "      <td>1</td>\n",
              "      <td>0</td>\n",
              "      <td>0</td>\n",
              "      <td>0</td>\n",
              "      <td>0</td>\n",
              "      <td>0</td>\n",
              "      <td>0</td>\n",
              "      <td>0</td>\n",
              "      <td>0</td>\n",
              "      <td>0</td>\n",
              "      <td>0</td>\n",
              "    </tr>\n",
              "    <tr>\n",
              "      <th>2</th>\n",
              "      <td>Potatoe</td>\n",
              "      <td>266.0</td>\n",
              "      <td>9.45am</td>\n",
              "      <td>115.0</td>\n",
              "      <td>1</td>\n",
              "      <td>0</td>\n",
              "      <td>0</td>\n",
              "      <td>1</td>\n",
              "      <td>0</td>\n",
              "      <td>0</td>\n",
              "      <td>0</td>\n",
              "      <td>0</td>\n",
              "      <td>0</td>\n",
              "      <td>0</td>\n",
              "      <td>0</td>\n",
              "      <td>0</td>\n",
              "      <td>0</td>\n",
              "    </tr>\n",
              "    <tr>\n",
              "      <th>3</th>\n",
              "      <td>Cabbage</td>\n",
              "      <td>154.0</td>\n",
              "      <td>10.10am</td>\n",
              "      <td>77.0</td>\n",
              "      <td>1</td>\n",
              "      <td>0</td>\n",
              "      <td>0</td>\n",
              "      <td>0</td>\n",
              "      <td>0</td>\n",
              "      <td>0</td>\n",
              "      <td>0</td>\n",
              "      <td>1</td>\n",
              "      <td>0</td>\n",
              "      <td>0</td>\n",
              "      <td>0</td>\n",
              "      <td>0</td>\n",
              "      <td>0</td>\n",
              "    </tr>\n",
              "    <tr>\n",
              "      <th>4</th>\n",
              "      <td>Potatoe</td>\n",
              "      <td>142.0</td>\n",
              "      <td>10.30am</td>\n",
              "      <td>75.0</td>\n",
              "      <td>1</td>\n",
              "      <td>0</td>\n",
              "      <td>0</td>\n",
              "      <td>1</td>\n",
              "      <td>0</td>\n",
              "      <td>0</td>\n",
              "      <td>0</td>\n",
              "      <td>0</td>\n",
              "      <td>0</td>\n",
              "      <td>0</td>\n",
              "      <td>0</td>\n",
              "      <td>0</td>\n",
              "      <td>0</td>\n",
              "    </tr>\n",
              "  </tbody>\n",
              "</table>\n",
              "</div>"
            ],
            "text/plain": [
              "     Vegetable  NetAmount (kg)      Time  ...  Pumpkin  Guava  Karawila\n",
              "0  GreenChilli           118.0   7.50am   ...        0      0         0\n",
              "1        Beans           286.0   8.35am   ...        0      0         0\n",
              "2      Potatoe           266.0   9.45am   ...        0      0         0\n",
              "3      Cabbage           154.0  10.10am   ...        0      0         0\n",
              "4      Potatoe           142.0   10.30am  ...        0      0         0\n",
              "\n",
              "[5 rows x 17 columns]"
            ]
          },
          "metadata": {
            "tags": []
          },
          "execution_count": 12
        }
      ]
    },
    {
      "cell_type": "code",
      "metadata": {
        "id": "VOd8SY-ulWSy",
        "scrolled": true
      },
      "source": [
        "#removing vegetables which contains less than two datasets \n",
        "#df = df.set_index(\"Vegetable\")\n",
        "#df.drop(['Banana','Arecanut','Lettuce','Karawila'], axis=0,inplace=True)\n"
      ],
      "execution_count": null,
      "outputs": []
    },
    {
      "cell_type": "code",
      "metadata": {
        "colab": {
          "base_uri": "https://localhost:8080/"
        },
        "id": "3eh4Wa-JlWSz",
        "scrolled": true,
        "outputId": "b3c4bdc4-958a-4b57-a194-662a39125427"
      },
      "source": [
        "df.shape # initial row count = 248"
      ],
      "execution_count": null,
      "outputs": [
        {
          "output_type": "execute_result",
          "data": {
            "text/plain": [
              "(347, 17)"
            ]
          },
          "metadata": {
            "tags": []
          },
          "execution_count": 14
        }
      ]
    },
    {
      "cell_type": "code",
      "metadata": {
        "id": "SJuBorY2lWS0"
      },
      "source": [
        "df = df[df.Vegetable != \"Banana\"]\n",
        " "
      ],
      "execution_count": null,
      "outputs": []
    },
    {
      "cell_type": "code",
      "metadata": {
        "id": "xyGL_XqdlWS0"
      },
      "source": [
        "#df = df[df.Vegetable != \"Karawila\"]"
      ],
      "execution_count": null,
      "outputs": []
    },
    {
      "cell_type": "code",
      "metadata": {
        "id": "NubsGht5lWS0"
      },
      "source": [
        "df = df[df.Vegetable != \"Arecanut\"]"
      ],
      "execution_count": null,
      "outputs": []
    },
    {
      "cell_type": "code",
      "metadata": {
        "id": "Ot7KneRYlWS0"
      },
      "source": [
        "df = df[df.Vegetable != \"Lettuce\"]"
      ],
      "execution_count": null,
      "outputs": []
    },
    {
      "cell_type": "code",
      "metadata": {
        "colab": {
          "base_uri": "https://localhost:8080/"
        },
        "id": "4pwNCEWNlWS1",
        "outputId": "93761055-1ca8-4ae7-9f86-5239d5b8e80e"
      },
      "source": [
        "df.shape #row count after removing above mentioned 4 vegetables"
      ],
      "execution_count": null,
      "outputs": [
        {
          "output_type": "execute_result",
          "data": {
            "text/plain": [
              "(343, 17)"
            ]
          },
          "metadata": {
            "tags": []
          },
          "execution_count": 19
        }
      ]
    },
    {
      "cell_type": "code",
      "metadata": {
        "colab": {
          "base_uri": "https://localhost:8080/"
        },
        "id": "KeCmoaozlWS1",
        "outputId": "347b6bd0-3552-47e4-ade3-1b0de04063fc"
      },
      "source": [
        "df[\"Vegetable\"]"
      ],
      "execution_count": null,
      "outputs": [
        {
          "output_type": "execute_result",
          "data": {
            "text/plain": [
              "0      GreenChilli\n",
              "1            Beans\n",
              "2          Potatoe\n",
              "3          Cabbage\n",
              "4          Potatoe\n",
              "          ...     \n",
              "347          Beans\n",
              "348        Potatoe\n",
              "349          Beans\n",
              "350          Beans\n",
              "351          Beans\n",
              "Name: Vegetable, Length: 343, dtype: object"
            ]
          },
          "metadata": {
            "tags": []
          },
          "execution_count": 20
        }
      ]
    },
    {
      "cell_type": "code",
      "metadata": {
        "colab": {
          "base_uri": "https://localhost:8080/",
          "height": 321
        },
        "id": "6fts2Pb_lWS1",
        "outputId": "b7019962-57d5-48de-c83c-325d8e7afd05"
      },
      "source": [
        "df.describe()"
      ],
      "execution_count": null,
      "outputs": [
        {
          "output_type": "execute_result",
          "data": {
            "text/html": [
              "<div>\n",
              "<style scoped>\n",
              "    .dataframe tbody tr th:only-of-type {\n",
              "        vertical-align: middle;\n",
              "    }\n",
              "\n",
              "    .dataframe tbody tr th {\n",
              "        vertical-align: top;\n",
              "    }\n",
              "\n",
              "    .dataframe thead th {\n",
              "        text-align: right;\n",
              "    }\n",
              "</style>\n",
              "<table border=\"1\" class=\"dataframe\">\n",
              "  <thead>\n",
              "    <tr style=\"text-align: right;\">\n",
              "      <th></th>\n",
              "      <th>NetAmount (kg)</th>\n",
              "      <th>PricePerkilogram</th>\n",
              "      <th>morning_price</th>\n",
              "      <th>evening_price</th>\n",
              "      <th>Beans</th>\n",
              "      <th>Potatoe</th>\n",
              "      <th>Eggplant</th>\n",
              "      <th>Tomato</th>\n",
              "      <th>Carrot</th>\n",
              "      <th>Cabbage</th>\n",
              "      <th>Radish</th>\n",
              "      <th>GreenChilli</th>\n",
              "      <th>Pumpkin</th>\n",
              "      <th>Guava</th>\n",
              "      <th>Karawila</th>\n",
              "    </tr>\n",
              "  </thead>\n",
              "  <tbody>\n",
              "    <tr>\n",
              "      <th>count</th>\n",
              "      <td>343.000000</td>\n",
              "      <td>343.000000</td>\n",
              "      <td>343.000000</td>\n",
              "      <td>343.000000</td>\n",
              "      <td>343.000000</td>\n",
              "      <td>343.000000</td>\n",
              "      <td>343.000000</td>\n",
              "      <td>343.000000</td>\n",
              "      <td>343.000000</td>\n",
              "      <td>343.000000</td>\n",
              "      <td>343.00000</td>\n",
              "      <td>343.000000</td>\n",
              "      <td>343.000000</td>\n",
              "      <td>343.000000</td>\n",
              "      <td>343.000000</td>\n",
              "    </tr>\n",
              "    <tr>\n",
              "      <th>mean</th>\n",
              "      <td>126.099125</td>\n",
              "      <td>105.134111</td>\n",
              "      <td>0.865889</td>\n",
              "      <td>0.134111</td>\n",
              "      <td>0.393586</td>\n",
              "      <td>0.069971</td>\n",
              "      <td>0.151603</td>\n",
              "      <td>0.090379</td>\n",
              "      <td>0.067055</td>\n",
              "      <td>0.081633</td>\n",
              "      <td>0.06414</td>\n",
              "      <td>0.034985</td>\n",
              "      <td>0.017493</td>\n",
              "      <td>0.017493</td>\n",
              "      <td>0.011662</td>\n",
              "    </tr>\n",
              "    <tr>\n",
              "      <th>std</th>\n",
              "      <td>105.361902</td>\n",
              "      <td>49.585588</td>\n",
              "      <td>0.341269</td>\n",
              "      <td>0.341269</td>\n",
              "      <td>0.489259</td>\n",
              "      <td>0.255471</td>\n",
              "      <td>0.359160</td>\n",
              "      <td>0.287143</td>\n",
              "      <td>0.250483</td>\n",
              "      <td>0.274204</td>\n",
              "      <td>0.24536</td>\n",
              "      <td>0.184011</td>\n",
              "      <td>0.131290</td>\n",
              "      <td>0.131290</td>\n",
              "      <td>0.107515</td>\n",
              "    </tr>\n",
              "    <tr>\n",
              "      <th>min</th>\n",
              "      <td>4.000000</td>\n",
              "      <td>17.000000</td>\n",
              "      <td>0.000000</td>\n",
              "      <td>0.000000</td>\n",
              "      <td>0.000000</td>\n",
              "      <td>0.000000</td>\n",
              "      <td>0.000000</td>\n",
              "      <td>0.000000</td>\n",
              "      <td>0.000000</td>\n",
              "      <td>0.000000</td>\n",
              "      <td>0.00000</td>\n",
              "      <td>0.000000</td>\n",
              "      <td>0.000000</td>\n",
              "      <td>0.000000</td>\n",
              "      <td>0.000000</td>\n",
              "    </tr>\n",
              "    <tr>\n",
              "      <th>25%</th>\n",
              "      <td>52.000000</td>\n",
              "      <td>75.000000</td>\n",
              "      <td>1.000000</td>\n",
              "      <td>0.000000</td>\n",
              "      <td>0.000000</td>\n",
              "      <td>0.000000</td>\n",
              "      <td>0.000000</td>\n",
              "      <td>0.000000</td>\n",
              "      <td>0.000000</td>\n",
              "      <td>0.000000</td>\n",
              "      <td>0.00000</td>\n",
              "      <td>0.000000</td>\n",
              "      <td>0.000000</td>\n",
              "      <td>0.000000</td>\n",
              "      <td>0.000000</td>\n",
              "    </tr>\n",
              "    <tr>\n",
              "      <th>50%</th>\n",
              "      <td>112.000000</td>\n",
              "      <td>87.000000</td>\n",
              "      <td>1.000000</td>\n",
              "      <td>0.000000</td>\n",
              "      <td>0.000000</td>\n",
              "      <td>0.000000</td>\n",
              "      <td>0.000000</td>\n",
              "      <td>0.000000</td>\n",
              "      <td>0.000000</td>\n",
              "      <td>0.000000</td>\n",
              "      <td>0.00000</td>\n",
              "      <td>0.000000</td>\n",
              "      <td>0.000000</td>\n",
              "      <td>0.000000</td>\n",
              "      <td>0.000000</td>\n",
              "    </tr>\n",
              "    <tr>\n",
              "      <th>75%</th>\n",
              "      <td>153.500000</td>\n",
              "      <td>155.000000</td>\n",
              "      <td>1.000000</td>\n",
              "      <td>0.000000</td>\n",
              "      <td>1.000000</td>\n",
              "      <td>0.000000</td>\n",
              "      <td>0.000000</td>\n",
              "      <td>0.000000</td>\n",
              "      <td>0.000000</td>\n",
              "      <td>0.000000</td>\n",
              "      <td>0.00000</td>\n",
              "      <td>0.000000</td>\n",
              "      <td>0.000000</td>\n",
              "      <td>0.000000</td>\n",
              "      <td>0.000000</td>\n",
              "    </tr>\n",
              "    <tr>\n",
              "      <th>max</th>\n",
              "      <td>891.000000</td>\n",
              "      <td>230.000000</td>\n",
              "      <td>1.000000</td>\n",
              "      <td>1.000000</td>\n",
              "      <td>1.000000</td>\n",
              "      <td>1.000000</td>\n",
              "      <td>1.000000</td>\n",
              "      <td>1.000000</td>\n",
              "      <td>1.000000</td>\n",
              "      <td>1.000000</td>\n",
              "      <td>1.00000</td>\n",
              "      <td>1.000000</td>\n",
              "      <td>1.000000</td>\n",
              "      <td>1.000000</td>\n",
              "      <td>1.000000</td>\n",
              "    </tr>\n",
              "  </tbody>\n",
              "</table>\n",
              "</div>"
            ],
            "text/plain": [
              "       NetAmount (kg)  PricePerkilogram  ...       Guava    Karawila\n",
              "count      343.000000        343.000000  ...  343.000000  343.000000\n",
              "mean       126.099125        105.134111  ...    0.017493    0.011662\n",
              "std        105.361902         49.585588  ...    0.131290    0.107515\n",
              "min          4.000000         17.000000  ...    0.000000    0.000000\n",
              "25%         52.000000         75.000000  ...    0.000000    0.000000\n",
              "50%        112.000000         87.000000  ...    0.000000    0.000000\n",
              "75%        153.500000        155.000000  ...    0.000000    0.000000\n",
              "max        891.000000        230.000000  ...    1.000000    1.000000\n",
              "\n",
              "[8 rows x 15 columns]"
            ]
          },
          "metadata": {
            "tags": []
          },
          "execution_count": 21
        }
      ]
    },
    {
      "cell_type": "code",
      "metadata": {
        "colab": {
          "base_uri": "https://localhost:8080/"
        },
        "id": "6uL1fohSlWS2",
        "outputId": "b3f173ae-bebd-474d-d056-a92348111252"
      },
      "source": [
        " df.columns"
      ],
      "execution_count": null,
      "outputs": [
        {
          "output_type": "execute_result",
          "data": {
            "text/plain": [
              "Index(['Vegetable', 'NetAmount (kg)', 'Time', 'PricePerkilogram',\n",
              "       'morning_price', 'evening_price', 'Beans', 'Potatoe', 'Eggplant',\n",
              "       'Tomato', 'Carrot', 'Cabbage', 'Radish', 'GreenChilli', 'Pumpkin',\n",
              "       'Guava', 'Karawila'],\n",
              "      dtype='object')"
            ]
          },
          "metadata": {
            "tags": []
          },
          "execution_count": 22
        }
      ]
    },
    {
      "cell_type": "code",
      "metadata": {
        "id": "3OVuNdLHlWS2"
      },
      "source": [
        "#creating the random forest model\n",
        "#choosing the appropiate columns\n",
        "df_model = df[['Vegetable','PricePerkilogram','morning_price','evening_price','Beans','Potatoe','Eggplant','Tomato','Carrot','Cabbage','Radish','GreenChilli','Pumpkin','Guava','Karawila']] "
      ],
      "execution_count": null,
      "outputs": []
    },
    {
      "cell_type": "code",
      "metadata": {
        "id": "-K2kjkbGlWS2"
      },
      "source": [
        "#get dummy data\n",
        "df_dum = pd.get_dummies(df_model)"
      ],
      "execution_count": null,
      "outputs": []
    },
    {
      "cell_type": "code",
      "metadata": {
        "id": "xLvAbTdLlWS3"
      },
      "source": [
        "#train test split\n",
        "from sklearn.model_selection import train_test_split\n",
        "\n",
        "X = df_dum.drop('PricePerkilogram', axis =1)\n",
        "y = df_dum.PricePerkilogram.values\n",
        "\n",
        "X_train, X_test, y_train, y_test = train_test_split(X, y, test_size=0.2, random_state=42)\n",
        "\n"
      ],
      "execution_count": null,
      "outputs": []
    },
    {
      "cell_type": "code",
      "metadata": {
        "colab": {
          "base_uri": "https://localhost:8080/"
        },
        "id": "hfuV_gvhV_kl",
        "outputId": "9b4f20ed-949d-47ca-9f76-dc1ec0e1a4cf"
      },
      "source": [
        "print(X.iloc[0])\n"
      ],
      "execution_count": null,
      "outputs": [
        {
          "output_type": "stream",
          "text": [
            "morning_price            1\n",
            "evening_price            0\n",
            "Beans                    0\n",
            "Potatoe                  0\n",
            "Eggplant                 0\n",
            "Tomato                   0\n",
            "Carrot                   0\n",
            "Cabbage                  0\n",
            "Radish                   0\n",
            "GreenChilli              1\n",
            "Pumpkin                  0\n",
            "Guava                    0\n",
            "Karawila                 0\n",
            "Vegetable_Beans          0\n",
            "Vegetable_Cabbage        0\n",
            "Vegetable_Carrot         0\n",
            "Vegetable_Eggplant       0\n",
            "Vegetable_GreenChilli    1\n",
            "Vegetable_Guava          0\n",
            "Vegetable_Karawila       0\n",
            "Vegetable_Potatoe        0\n",
            "Vegetable_Pumpkin        0\n",
            "Vegetable_Radish         0\n",
            "Vegetable_Tomato         0\n",
            "Name: 0, dtype: int64\n"
          ],
          "name": "stdout"
        }
      ]
    },
    {
      "cell_type": "code",
      "metadata": {
        "colab": {
          "base_uri": "https://localhost:8080/"
        },
        "id": "lhimRmXglWS3",
        "outputId": "34fde0b8-ea43-4bda-9058-431debca99b6"
      },
      "source": [
        "#random forest\n",
        "from sklearn.model_selection import cross_val_score\n",
        "#refer - https://stackabuse.com/random-forest-algorithm-with-python-and-scikit-learn/\n",
        "from sklearn.ensemble import RandomForestRegressor\n",
        "rf = RandomForestRegressor() \n",
        "np.mean(cross_val_score(rf,X_train,y_train,scoring = 'neg_mean_absolute_error', cv= 3))\n",
        "\n",
        " "
      ],
      "execution_count": null,
      "outputs": [
        {
          "output_type": "execute_result",
          "data": {
            "text/plain": [
              "-17.151911312106765"
            ]
          },
          "metadata": {
            "tags": []
          },
          "execution_count": 27
        }
      ]
    },
    {
      "cell_type": "code",
      "metadata": {
        "colab": {
          "base_uri": "https://localhost:8080/"
        },
        "id": "HPkjMYrJlWS3",
        "outputId": "a9118674-8382-4d15-b6fd-9a06c92cf1dd"
      },
      "source": [
        "#grid search cv - model tuning \n",
        "# reasonto choose it over random search cv is that we got less number of data sets\n",
        "from sklearn.model_selection import GridSearchCV\n",
        "parameters = {'n_estimators':range(10,300,10), 'criterion':('mse','mae'), 'max_features':('auto','sqrt','log2')}\n",
        "\n",
        "gs = GridSearchCV(rf,parameters,scoring='neg_mean_absolute_error',cv=3)\n",
        "gs.fit(X_train,y_train)\n"
      ],
      "execution_count": null,
      "outputs": [
        {
          "output_type": "execute_result",
          "data": {
            "text/plain": [
              "GridSearchCV(cv=3, error_score=nan,\n",
              "             estimator=RandomForestRegressor(bootstrap=True, ccp_alpha=0.0,\n",
              "                                             criterion='mse', max_depth=None,\n",
              "                                             max_features='auto',\n",
              "                                             max_leaf_nodes=None,\n",
              "                                             max_samples=None,\n",
              "                                             min_impurity_decrease=0.0,\n",
              "                                             min_impurity_split=None,\n",
              "                                             min_samples_leaf=1,\n",
              "                                             min_samples_split=2,\n",
              "                                             min_weight_fraction_leaf=0.0,\n",
              "                                             n_estimators=100, n_jobs=None,\n",
              "                                             oob_score=False, random_state=None,\n",
              "                                             verbose=0, warm_start=False),\n",
              "             iid='deprecated', n_jobs=None,\n",
              "             param_grid={'criterion': ('mse', 'mae'),\n",
              "                         'max_features': ('auto', 'sqrt', 'log2'),\n",
              "                         'n_estimators': range(10, 300, 10)},\n",
              "             pre_dispatch='2*n_jobs', refit=True, return_train_score=False,\n",
              "             scoring='neg_mean_absolute_error', verbose=0)"
            ]
          },
          "metadata": {
            "tags": []
          },
          "execution_count": 28
        }
      ]
    },
    {
      "cell_type": "code",
      "metadata": {
        "colab": {
          "base_uri": "https://localhost:8080/"
        },
        "id": "XfzzB6z5lWS4",
        "outputId": "11b9a318-d005-40f0-8279-d9a46a80da62"
      },
      "source": [
        "gs.best_score_"
      ],
      "execution_count": null,
      "outputs": [
        {
          "output_type": "execute_result",
          "data": {
            "text/plain": [
              "-16.136206004140785"
            ]
          },
          "metadata": {
            "tags": []
          },
          "execution_count": 29
        }
      ]
    },
    {
      "cell_type": "code",
      "metadata": {
        "colab": {
          "base_uri": "https://localhost:8080/"
        },
        "id": "JgytaWRglWS5",
        "outputId": "99c93cef-1513-45b5-9955-efe53d69ca97"
      },
      "source": [
        "gs.best_estimator_"
      ],
      "execution_count": null,
      "outputs": [
        {
          "output_type": "execute_result",
          "data": {
            "text/plain": [
              "RandomForestRegressor(bootstrap=True, ccp_alpha=0.0, criterion='mae',\n",
              "                      max_depth=None, max_features='auto', max_leaf_nodes=None,\n",
              "                      max_samples=None, min_impurity_decrease=0.0,\n",
              "                      min_impurity_split=None, min_samples_leaf=1,\n",
              "                      min_samples_split=2, min_weight_fraction_leaf=0.0,\n",
              "                      n_estimators=30, n_jobs=None, oob_score=False,\n",
              "                      random_state=None, verbose=0, warm_start=False)"
            ]
          },
          "metadata": {
            "tags": []
          },
          "execution_count": 30
        }
      ]
    },
    {
      "cell_type": "code",
      "metadata": {
        "colab": {
          "base_uri": "https://localhost:8080/"
        },
        "id": "SO7gCD-ClWS5",
        "outputId": "9467320a-856d-4d2b-932d-bb1d287d685a"
      },
      "source": [
        "#test enembles\n",
        "from sklearn.metrics import mean_absolute_error\n",
        "tpred_rf = gs.best_estimator_.predict(X_test)\n",
        "mean_absolute_error(y_test,tpred_rf)"
      ],
      "execution_count": null,
      "outputs": [
        {
          "output_type": "execute_result",
          "data": {
            "text/plain": [
              "15.251690821256041"
            ]
          },
          "metadata": {
            "tags": []
          },
          "execution_count": 31
        }
      ]
    },
    {
      "cell_type": "code",
      "metadata": {
        "colab": {
          "base_uri": "https://localhost:8080/"
        },
        "id": "qpupzmX0lWS6",
        "outputId": "22ac7a88-e891-4a45-9586-a688ac1b7bd8"
      },
      "source": [
        "print(str(list(X_train.iloc[10,:])))"
      ],
      "execution_count": null,
      "outputs": [
        {
          "output_type": "stream",
          "text": [
            "[1, 0, 0, 1, 0, 0, 0, 0, 0, 0, 0, 0, 0, 0, 0, 0, 0, 0, 0, 0, 1, 0, 0, 0]\n"
          ],
          "name": "stdout"
        }
      ]
    },
    {
      "cell_type": "code",
      "metadata": {
        "id": "FkBrihGKEQR6"
      },
      "source": [
        "#pickle the model = converts the object into a byte stream which can be stored\n",
        "import pickle\n",
        "pickl = {'model': gs.best_estimator_}\n",
        "pickle.dump( pickl, open( 'model_file' + \".p\", \"wb\" ) )"
      ],
      "execution_count": null,
      "outputs": []
    },
    {
      "cell_type": "code",
      "metadata": {
        "colab": {
          "base_uri": "https://localhost:8080/"
        },
        "id": "_6QMKH7mH20q",
        "outputId": "8302e154-9f57-42e8-d1ec-06eaea3e7f28"
      },
      "source": [
        "file_name = \"model_file.p\"\n",
        "with open(file_name, 'rb') as pickled:\n",
        "    data = pickle.load(pickled)\n",
        "    model = data['model']\n",
        "model.predict(np.array(list(X_test.iloc[1,:])).reshape(1,-1))[0]\n",
        "\n",
        "list(X_test.iloc[1,:])"
      ],
      "execution_count": null,
      "outputs": [
        {
          "output_type": "execute_result",
          "data": {
            "text/plain": [
              "[1, 0, 0, 0, 0, 1, 0, 0, 0, 0, 0, 0, 0, 0, 0, 0, 0, 0, 0, 0, 0, 0, 0, 1]"
            ]
          },
          "metadata": {
            "tags": []
          },
          "execution_count": 34
        }
      ]
    },
    {
      "cell_type": "code",
      "metadata": {
        "colab": {
          "base_uri": "https://localhost:8080/"
        },
        "id": "RVZJvYpzIMoi",
        "outputId": "14c6c98e-5257-4de0-b646-db3b1fde7054"
      },
      "source": [
        "model.predict(np.array(list(X_test.iloc[1,:])).reshape(1,-1))[0]"
      ],
      "execution_count": null,
      "outputs": [
        {
          "output_type": "execute_result",
          "data": {
            "text/plain": [
              "47.583333333333336"
            ]
          },
          "metadata": {
            "tags": []
          },
          "execution_count": 35
        }
      ]
    }
  ]
}